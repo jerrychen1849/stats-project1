{
  "nbformat": 4,
  "nbformat_minor": 0,
  "metadata": {
    "colab": {
      "provenance": [],
      "include_colab_link": true
    },
    "kernelspec": {
      "name": "python3",
      "display_name": "Python 3"
    },
    "language_info": {
      "name": "python"
    }
  },
  "cells": [
    {
      "cell_type": "markdown",
      "metadata": {
        "id": "view-in-github",
        "colab_type": "text"
      },
      "source": [
        "<a href=\"https://colab.research.google.com/github/jerrychen1849/stats-project1/blob/main/Math408_Project_1.ipynb\" target=\"_parent\"><img src=\"https://colab.research.google.com/assets/colab-badge.svg\" alt=\"Open In Colab\"/></a>"
      ]
    },
    {
      "cell_type": "markdown",
      "source": [
        "# MATH 408 Project 1\n",
        "\n",
        "\n",
        "\n"
      ],
      "metadata": {
        "id": "xcJSQxwRGTiu"
      }
    },
    {
      "cell_type": "code",
      "source": [
        "#@title\n",
        "%matplotlib inline\n",
        "import numpy as np\n",
        "import matplotlib.pyplot as plt\n",
        "import random\n",
        "import math\n",
        "import time\n",
        "from scipy.stats import norm, tvar, tstd\n",
        "from IPython.display import Markdown as md\n",
        "from datetime import date\n",
        "\n",
        "date = date.today()\n",
        "names = \"Jadon Gaertner, Jerry Chen, Luy Kim, Brian Zhao\"\n",
        "title = names+'\\n'+str(date)\n",
        "md(f\"{names}\\n{date}\")"
      ],
      "metadata": {
        "id": "vpw6FJeN-27K",
        "colab": {
          "base_uri": "https://localhost:8080/",
          "height": 46
        },
        "outputId": "34782903-7334-45f7-b913-5a5cddbdc2a7",
        "cellView": "form"
      },
      "execution_count": null,
      "outputs": [
        {
          "output_type": "execute_result",
          "data": {
            "text/plain": [
              "<IPython.core.display.Markdown object>"
            ],
            "text/markdown": "Jadon Gaertner, Jerry Chen, Luy Kim, Brian Zhao\n2022-11-07"
          },
          "metadata": {},
          "execution_count": 1
        }
      ]
    },
    {
      "cell_type": "markdown",
      "source": [
        "## 1."
      ],
      "metadata": {
        "id": "sC7lYxYff_jw"
      }
    },
    {
      "cell_type": "markdown",
      "source": [
        "### a) \n",
        "Use the random number generator $x_n\\leftarrow[(ax_{n-1}+c)\\mod(m)]$ with $a=7^5$, $c=0$ and $m=2^{31}-1$ to generate 10000 uniformly distributed random numbers on $[0,1]$ and plot the histogram. Do the numbers generated\n",
        "seem to be random? If so, how do you explain this? Perform 1 or 2 simple statistical tests to check if they are $U[0,1]$."
      ],
      "metadata": {
        "id": "X5Ia9Nrjdyvu"
      }
    },
    {
      "cell_type": "code",
      "source": [
        "#@title\n",
        "def randomNumber(x_n, a, c, m):\n",
        "  assert (a and x_n) or c\n",
        "  return (a*x_n+c)%m\n",
        "\n",
        "randomNumList = []\n",
        "x_n = 3;\n",
        "for _ in range(10000):\n",
        "  randomNumList.append(x_n)\n",
        "  x_n = randomNumber(x_n, a=7**5, c=0, m=2**31-1)\n",
        "uniformNumList = [x / (2**31-1) for x in randomNumList]\n",
        "averageofUniformNumList = round(sum(uniformNumList)/10000, 3)\n",
        "std_dev_of_uniform = tstd(uniformNumList)\n",
        "var_of_uniform = tvar(uniformNumList)\n",
        "\n",
        "plt.figure(figsize=(10,5))\n",
        "plt.hist(uniformNumList, bins=100)\n",
        "plt.title(title)\n",
        "plt.show()\n",
        "\n",
        "md(f\"\"\"\n",
        "  The numbers generated seem to be random, because it is hard to predict or find a pattern of the numbers when modulo operation is applied in a sequence. \\\\\n",
        "  \\\\\n",
        "  The expected value of a $U[0, 1]$ distribution is $0.5$, so let's test that assuming the sample mean follows a normal distribution. \\\\\n",
        "  Testing that the mean of this sample is $\\mu = 0.5$ with $\\\\alpha = 0.05$ \\\\\n",
        "  $H_0: \\mu = 0.5$ \\\\\n",
        "  $H_a: \\mu \\\\ne 0.5$ \\\\\n",
        "  Rejection region will be $|z| > z_{{\\\\alpha/2}}$, with$\\ z_{{0.025}} = 1.96$ \\\\\n",
        "  $\\overline{{Y}} = {averageofUniformNumList}$ \\\\\n",
        "  $\\mu_0 = 0.5$ \\\\\n",
        "  $\\\\sigma_{{\\overline{{Y}}}} \\\\approx {std_dev_of_uniform:.4g}$ \\\\\n",
        "  $z = \\\\frac{{\\overline{{Y}}-\\mu_0}}{{\\\\sigma_{{\\overline Y}}}} = \\\\frac{{{averageofUniformNumList}-0.5}}{{{std_dev_of_uniform:.4g}}} \\\\approx {(averageofUniformNumList-0.5)/std_dev_of_uniform:.4g}$ \\\\\n",
        "  $|{(averageofUniformNumList-0.5)/std_dev_of_uniform:.4g}| \\\\ngtr 1.96$, so we fail to reject the null hypothesis. The mean of the distribution we made is $0.5$ with $\\\\alpha = 0.05$ significance. \\\\\n",
        "  \\\\\n",
        "  The variance of a $U[0, 1]$ distribution is $\\\\frac{{1}}{{12}}$, so let's test that too. \\\\\n",
        "  Testing that the variance of this sample is $\\\\sigma^2 = \\\\frac{{1}}{{12}}$ with $\\\\alpha = 0.05$ \\\\\n",
        "  $H_0: \\\\sigma^2 = \\\\frac{{1}}{{12}}$ \\\\\n",
        "  $H_a: \\\\sigma^2 \\\\ne \\\\frac{{1}}{{12}}$ \\\\\n",
        "  Rejection region will be $\\\\chi^2 > \\\\chi^2_{{\\\\alpha/2}}$ or $\\\\chi^2 < \\\\chi^2_{{1-\\\\alpha/2}}$ for $\\\\chi^2_{{0.025}} = 10280$ and $\\\\chi^2_{{0.975}} = 9725$ with ${len(uniformNumList)-1}$ degrees of freedom. \\\\\n",
        "  $n = {len(uniformNumList)}$ \\\\\n",
        "  $S^2 \\\\approx {var_of_uniform:.4g}$ \\\\\n",
        "  $\\\\sigma^2_0 = \\\\frac{{1}}{{12}}$ \\\\\n",
        "  $\\\\chi^2 = \\\\frac{{(n-1)S^2}}{{\\\\sigma^2_0}} = \\\\frac{{({len(uniformNumList)-1})({var_of_uniform:.4g})}}{{\\\\frac{{1}}{{12}}}} = {(len(uniformNumList)-1)*var_of_uniform*12:.5g}$ \\\\\n",
        "  $9725 < {(len(uniformNumList)-1)*var_of_uniform*12:.5g} < 10280$, so we fail to reject the null hypothesis. The variance of the distribution we made is $\\\\frac{{1}}{{12}}$ with $\\\\alpha = 0.05$ significance.\n",
        "\"\"\")"
      ],
      "metadata": {
        "colab": {
          "base_uri": "https://localhost:8080/",
          "height": 858
        },
        "id": "azhblGcCdE2u",
        "outputId": "b3a0b689-52c5-470c-9060-0bba44c0d4a7",
        "cellView": "form"
      },
      "execution_count": null,
      "outputs": [
        {
          "output_type": "display_data",
          "data": {
            "text/plain": [
              "<Figure size 720x360 with 1 Axes>"
            ],
            "image/png": "[encoded data removed]"
          },
          "metadata": {
            "needs_background": "light"
          }
        },
        {
          "output_type": "execute_result",
          "data": {
            "text/plain": [
              "<IPython.core.display.Markdown object>"
            ],
            "text/markdown": "\n  The numbers generated seem to be random, because it is hard to predict or find a pattern of the numbers when modulo operation is applied in a sequence. \\\n  \\\n  The expected value of a $U[0, 1]$ distribution is $0.5$, so let's test that assuming the sample mean follows a normal distribution. \\\n  Testing that the mean of this sample is $\\mu = 0.5$ with $\\alpha = 0.05$ \\\n  $H_0: \\mu = 0.5$ \\\n  $H_a: \\mu \\ne 0.5$ \\\n  Rejection region will be $|z| > z_{\\alpha/2}$, with$\\ z_{0.025} = 1.96$ \\\n  $\\overline{Y} = 0.503$ \\\n  $\\mu_0 = 0.5$ \\\n  $\\sigma_{\\overline{Y}} \\approx 0.2875$ \\\n  $z = \\frac{\\overline{Y}-\\mu_0}{\\sigma_{\\overline Y}} = \\frac{0.503-0.5}{0.2875} \\approx 0.01043$ \\\n  $|0.01043| \\ngtr 1.96$, so we fail to reject the null hypothesis. The mean of the distribution we made is $0.5$ with $\\alpha = 0.05$ significance. \\\n  \\\n  The variance of a $U[0, 1]$ distribution is $\\frac{1}{12}$, so let's test that too. \\\n  Testing that the variance of this sample is $\\sigma^2 = \\frac{1}{12}$ with $\\alpha = 0.05$ \\\n  $H_0: \\sigma^2 = \\frac{1}{12}$ \\\n  $H_a: \\sigma^2 \\ne \\frac{1}{12}$ \\\n  Rejection region will be $\\chi^2 > \\chi^2_{\\alpha/2}$ or $\\chi^2 < \\chi^2_{1-\\alpha/2}$ for $\\chi^2_{0.025} = 10280$ and $\\chi^2_{0.975} = 9725$ with $9999$ degrees of freedom. \\\n  $n = 10000$ \\\n  $S^2 \\approx 0.08268$ \\\n  $\\sigma^2_0 = \\frac{1}{12}$ \\\n  $\\chi^2 = \\frac{(n-1)S^2}{\\sigma^2_0} = \\frac{(9999)(0.08268)}{\\frac{1}{12}} = 9920.2$ \\\n  $9725 < 9920.2 < 10280$, so we fail to reject the null hypothesis. The variance of the distribution we made is $\\frac{1}{12}$ with $\\alpha = 0.05$ significance.\n"
          },
          "metadata": {},
          "execution_count": 2
        }
      ]
    },
    {
      "cell_type": "markdown",
      "source": [
        "### b)\n",
        "Do the following by hand: Take $a=6$ and $m=11$ and $x_0=3$ and generate $x_n\\leftarrow[(ax_n+c)\\mod(m)]$ what sequence do you get? What is the period? Try now $a=6$ and $m=10$ and $x_0=3$ what sequence do you get? What is the period?"
      ],
      "metadata": {
        "id": "BSK8m3_EoVOh"
      }
    },
    {
      "cell_type": "code",
      "source": [
        "#@title\n",
        "seq1,seq2 = [],[]\n",
        "x_n = 3\n",
        "for _ in range(20):\n",
        "  seq1.append(x_n)\n",
        "  x_n = randomNumber(x_n, a=6, m=11, c=0)\n",
        "x_n = 3\n",
        "for _ in range(20):\n",
        "  seq2.append(x_n)\n",
        "  x_n = randomNumber(x_n, a=6, m=10, c=0)\n",
        "\n",
        "md(f\"\"\"\n",
        "  Taking $a=6$, $m=11$, and $x_0=3$, the sequence is: \\\\\n",
        "  {seq1} \\\\\n",
        "  The period is 10. \\\\\n",
        "  \\\\\n",
        "  Taking $a=6$, $m=10$, and $x_0=3$, the sequence is: \\\\\n",
        "  {seq2} \\\\\n",
        "  The period is 1 after the first number of the sequence.\n",
        "\"\"\")"
      ],
      "metadata": {
        "colab": {
          "base_uri": "https://localhost:8080/",
          "height": 158
        },
        "id": "aB2YDG0DEXZ1",
        "outputId": "a47d8738-52e0-4299-e481-f19b3dec2647"
      },
      "execution_count": null,
      "outputs": [
        {
          "output_type": "execute_result",
          "data": {
            "text/plain": [
              "<IPython.core.display.Markdown object>"
            ],
            "text/markdown": "\n  Taking $a=6$, $m=11$, and $x_0=3$, the sequence is: \\\n  [3, 7, 9, 10, 5, 8, 4, 2, 1, 6, 3, 7, 9, 10, 5, 8, 4, 2, 1, 6] \\\n  The period is 10. \\\n  \\\n  Taking $a=6$, $m=10$, and $x_0=3$, the sequence is: \\\n  [3, 8, 8, 8, 8, 8, 8, 8, 8, 8, 8, 8, 8, 8, 8, 8, 8, 8, 8, 8] \\\n  The period is 1 after the first number of the sequence. \\\n"
          },
          "metadata": {},
          "execution_count": 3
        }
      ]
    },
    {
      "cell_type": "markdown",
      "source": [
        "### c)\n",
        "Generate 10000 uniformly distributed random numbers on $[0,1]$ using the built-in function of MATLAB or another built in function in the computer language you are working."
      ],
      "metadata": {
        "id": "C4SwVpanrpw5"
      }
    },
    {
      "cell_type": "code",
      "source": [
        "#@title\n",
        "uniform = np.random.uniform(0, 1, 10000)\n",
        "plt.figure(figsize=(10,5))\n",
        "plt.hist(uniform, bins=100)\n",
        "plt.title(title)\n",
        "plt.show()"
      ],
      "metadata": {
        "id": "MdEUfbOCQopt",
        "colab": {
          "base_uri": "https://localhost:8080/",
          "height": 351
        },
        "outputId": "df61206b-fc87-4c38-b399-693fe7e80753",
        "cellView": "form"
      },
      "execution_count": null,
      "outputs": [
        {
          "output_type": "display_data",
          "data": {
            "text/plain": [
              "<Figure size 720x360 with 1 Axes>"
            ],
            "image/png": "[encoded data removed]"
          },
          "metadata": {
            "needs_background": "light"
          }
        }
      ]
    },
    {
      "cell_type": "markdown",
      "source": [
        "### d)\n",
        "Compare the histograms obtained in parts a) and c) and comment on the results."
      ],
      "metadata": {
        "id": "gXsXXmr0tTlN"
      }
    },
    {
      "cell_type": "code",
      "source": [
        "#@title\n",
        "md(\"\"\"\n",
        "  The two histograms looks similar. Thus, the random number generator \n",
        "  implemented in part a) is good enough to approximate a uniform distribution.\n",
        "\"\"\")"
      ],
      "metadata": {
        "colab": {
          "base_uri": "https://localhost:8080/",
          "height": 46
        },
        "id": "bgAVPjOGtgsO",
        "outputId": "97d7d69b-a2ca-44ad-bddf-859378bc8274",
        "cellView": "form"
      },
      "execution_count": null,
      "outputs": [
        {
          "output_type": "execute_result",
          "data": {
            "text/plain": [
              "<IPython.core.display.Markdown object>"
            ],
            "text/markdown": "\n  The two histograms looks similar. Thus, the random number generator \n  implemented in part a) is good enough to approximate a uniform distribution.\n"
          },
          "metadata": {},
          "execution_count": 5
        }
      ]
    },
    {
      "cell_type": "markdown",
      "source": [
        "### e)\n",
        "Call the random numbers generated in part a) $u_1, u_2, \\dots$. Plot the pairs $(u_1,u_2), (u_2,u_3), (u_3,u_4)$, etc. Do you see any particular pattern?"
      ],
      "metadata": {
        "id": "Zpp6xdv2vbgw"
      }
    },
    {
      "cell_type": "code",
      "source": [
        "#@title\n",
        "rand_list = uniformNumList[:1000]\n",
        "plt.figure(figsize=(5,5))\n",
        "plt.scatter(rand_list[:-1], rand_list[1:])\n",
        "plt.title(title)\n",
        "plt.show()\n",
        "\n",
        "# This looks cool\n",
        "#thingIcanGraph = zip(*zip(uniformNumList[0::2], uniformNumList[1::2]))#sorry i literally never write in python and idk how this works - Jadon\n",
        "\n",
        "md(\"\"\"\n",
        "  The plot does not have a particular pattern. The data points that represent the pairs are uniformly distributed in the region $[0,1]×[0,1]$.\n",
        "\"\"\")"
      ],
      "metadata": {
        "colab": {
          "base_uri": "https://localhost:8080/",
          "height": 383
        },
        "id": "ySmUj29Rv_S8",
        "outputId": "a57fb985-3142-4906-a822-e9967941d727",
        "cellView": "form"
      },
      "execution_count": null,
      "outputs": [
        {
          "output_type": "display_data",
          "data": {
            "text/plain": [
              "<Figure size 360x360 with 1 Axes>"
            ],
            "image/png": "[encoded data removed]"
          },
          "metadata": {
            "needs_background": "light"
          }
        },
        {
          "output_type": "execute_result",
          "data": {
            "text/plain": [
              "<IPython.core.display.Markdown object>"
            ],
            "text/markdown": "\n  The plot does not have a particular pattern. The data points that represent the pairs are uniformly distributed in the region $[0,1]×[0,1]$.\n"
          },
          "metadata": {},
          "execution_count": 6
        }
      ]
    },
    {
      "cell_type": "markdown",
      "source": [
        "### f)\n",
        "As a conclusion of this problem, what advantages and disadvantages of this random number generator did you observe?"
      ],
      "metadata": {
        "id": "qnL23BOG2GTD"
      }
    },
    {
      "cell_type": "code",
      "source": [
        "#@title\n",
        "md(\"\"\"\n",
        "  The advantage is that the random number generator is simple and fast and can generally generate a distribution very close to the uniform distribution. \\\\\n",
        "  The disatvantage is that it is possilble for the sequence to repeat with a certain period or even converge to a single value. \n",
        "\"\"\")"
      ],
      "metadata": {
        "colab": {
          "base_uri": "https://localhost:8080/",
          "height": 64
        },
        "id": "O17K4Hot2Jkd",
        "outputId": "bace407d-cc02-4831-8446-02b7d3752713",
        "cellView": "form"
      },
      "execution_count": null,
      "outputs": [
        {
          "output_type": "execute_result",
          "data": {
            "text/plain": [
              "<IPython.core.display.Markdown object>"
            ],
            "text/markdown": "\n  The advantage is that the random number generator is simple and fast and can generally generate a distribution very close to the uniform distribution. \\\n  The disatvantage is that it is possilble for the sequence to repeat with a certain period or even converge to a single value. \n"
          },
          "metadata": {},
          "execution_count": 7
        }
      ]
    },
    {
      "cell_type": "markdown",
      "source": [
        "## 2."
      ],
      "metadata": {
        "id": "Gw0zrpLL2A82"
      }
    },
    {
      "cell_type": "markdown",
      "source": [
        "### a)\n",
        "Use the numbers generated in problem 1, to generate 10000 discrete random numbers with the following probability distribution:\n",
        "$P(X=k)=\\begin{cases}\n",
        "  0.1 & \\text{for}\\, k=15 \\\\\n",
        "  0.2 & \\text{for}\\, k=100 \\\\\n",
        "  0.3 & \\text{for}\\, k=-200 \\\\\n",
        "  0.4 & \\text{for}\\, k=300\n",
        "\\end{cases}$"
      ],
      "metadata": {
        "id": "6o00WIjl2Cg1"
      }
    },
    {
      "cell_type": "code",
      "source": [
        "#@title\n",
        "newDiscreteRVList = []\n",
        "for i in uniformNumList:\n",
        "  if 0 <= i <= 0.1:\n",
        "    newDiscreteRVList.append(15)\n",
        "  elif 0.1 < i <= 0.3:\n",
        "    newDiscreteRVList.append(100)\n",
        "  elif 0.3 < i <= 0.6:\n",
        "    newDiscreteRVList.append(-200)\n",
        "  elif 0.6 < i <= 1:\n",
        "    newDiscreteRVList.append(300)\n",
        "  else:\n",
        "    raise ValueError(\"number out of domain\")"
      ],
      "metadata": {
        "id": "o4r4ffw3RQ-e",
        "cellView": "form"
      },
      "execution_count": null,
      "outputs": []
    },
    {
      "cell_type": "markdown",
      "source": [
        "### b)\n",
        "Plot distribution obtained, and comment on the results."
      ],
      "metadata": {
        "id": "jgsd9TDP4v1a"
      }
    },
    {
      "cell_type": "code",
      "source": [
        "#@title\n",
        "plt.figure(figsize=(10,5))\n",
        "plt.hist(newDiscreteRVList, bins=50)\n",
        "plt.title(title)\n",
        "plt.show()\n",
        "\n",
        "md(f\"\"\"\n",
        "  In the set of random numbers generated: \\\\\n",
        "  $P(k=15)={newDiscreteRVList.count(15)/len(newDiscreteRVList)}$ \\\\\n",
        "  $P(k=100)={newDiscreteRVList.count(100)/len(newDiscreteRVList)}$ \\\\\n",
        "  $P(k=-200)={newDiscreteRVList.count(-200)/len(newDiscreteRVList)}$ \\\\\n",
        "  $P(k=300)={newDiscreteRVList.count(300)/len(newDiscreteRVList)}$ \\\\\n",
        "  The resulting distribution is consistent with the prior probability of the discrete random variable $X$.\n",
        "\"\"\")"
      ],
      "metadata": {
        "colab": {
          "base_uri": "https://localhost:8080/",
          "height": 487
        },
        "id": "9e-dpXxd4zlk",
        "outputId": "7cb1f295-a330-4956-c813-9fd9912e0e36",
        "cellView": "form"
      },
      "execution_count": null,
      "outputs": [
        {
          "output_type": "display_data",
          "data": {
            "text/plain": [
              "<Figure size 720x360 with 1 Axes>"
            ],
            "image/png": "[encoded data removed]"
          },
          "metadata": {
            "needs_background": "light"
          }
        },
        {
          "output_type": "execute_result",
          "data": {
            "text/plain": [
              "<IPython.core.display.Markdown object>"
            ],
            "text/markdown": "\n  In the set of random numbers generated: \\\n  $P(k=15)=0.097$ \\\n  $P(k=100)=0.1966$ \\\n  $P(k=-200)=0.3054$ \\\n  $P(k=300)=0.401$ \\\n  The resulting distribution is consistent with the prior probability of the discrete random variable $X$.\n"
          },
          "metadata": {},
          "execution_count": 9
        }
      ]
    },
    {
      "cell_type": "markdown",
      "source": [
        "## 3.\n",
        "Generate 6000 Binomial distributed ($n=100$, $p=0.7$) random numbers by doing:"
      ],
      "metadata": {
        "id": "MEpnqRyj7BnV"
      }
    },
    {
      "cell_type": "markdown",
      "source": [
        "### a)\n",
        "Generate Bernoulli random variables and add the results. Plot the histogram and use your data to calculate the probability that the Binomial random variable is less or equal to 70. Compare with the theoretical answer."
      ],
      "metadata": {
        "id": "9cWi7Zr97DW-"
      }
    },
    {
      "cell_type": "code",
      "source": [
        "#@title\n",
        "from scipy.stats import bernoulli\n",
        "from scipy.special import comb\n",
        "\n",
        "def binomial_by_adding_bernoullis(n, p):\n",
        "  return sum(bernoulli.rvs(p, size=n))\n",
        "\n",
        "def binomial_by_adding_bernoullis(n, p):\n",
        "  sum = 0;\n",
        "  for i in range(n):\n",
        "    u = np.random.uniform(0, 1)\n",
        "    if u <= p:\n",
        "      bernoulli = 1\n",
        "    else:\n",
        "      bernoulli = 0\n",
        "    sum += bernoulli\n",
        "  return sum\n",
        "\n",
        "n = 100\n",
        "p = 0.7\n",
        "\n",
        "a_start = time.perf_counter()\n",
        "binomial_list = [binomial_by_adding_bernoullis(100, 0.7) for i in range(6000)]\n",
        "a_stop = time.perf_counter()\n",
        "\n",
        "plt.figure(figsize=(10,5))\n",
        "plt.hist(binomial_list, bins=100, range=(0,100))\n",
        "plt.title(title)\n",
        "plt.show()\n",
        "\n",
        "from_data = sum([x <= 70 for x in binomial_list])/len(binomial_list)\n",
        "from_calc = sum([comb(100,i)*(0.7**i)*((1-0.7)**(100-i)) for i in range(71)])\n",
        "\n",
        "md(f\"\"\"\n",
        "  From data, $P(X\\le70)={from_data}$ \\\\\n",
        "  Theoretically, $P(X\\le70) = \\sum_{{i=0}}^{{70}}{{100\\choose i}}0.7^i(1-0.7)^{{100-i}}={from_calc}$ \\\\\n",
        "  The answer from data is very close to the theoretical value.\n",
        "\"\"\")"
      ],
      "metadata": {
        "colab": {
          "base_uri": "https://localhost:8080/",
          "height": 424
        },
        "id": "nqbiill87WIr",
        "outputId": "9d3e2fb2-5eda-43b6-c408-1eeb1711cde3",
        "cellView": "form"
      },
      "execution_count": null,
      "outputs": [
        {
          "output_type": "display_data",
          "data": {
            "text/plain": [
              "<Figure size 720x360 with 1 Axes>"
            ],
            "image/png": "[encoded data removed]"
          },
          "metadata": {
            "needs_background": "light"
          }
        },
        {
          "output_type": "execute_result",
          "data": {
            "text/plain": [
              "<IPython.core.display.Markdown object>"
            ],
            "text/markdown": "\n  From data, $P(X\\le70)=0.5438333333333333$ \\\n  Theoretically, $P(X\\le70) = \\sum_{i=0}^{70}{100\\choose i}0.7^i(1-0.7)^{100-i}=0.5376602639846378$ \\\n  The answer from data is very close to the theoretical value.\n"
          },
          "metadata": {},
          "execution_count": 10
        }
      ]
    },
    {
      "cell_type": "markdown",
      "source": [
        "### b)\n",
        "Use the inverse transformation method in the textbook."
      ],
      "metadata": {
        "id": "kaa-mC7ZMy1k"
      }
    },
    {
      "cell_type": "code",
      "source": [
        "#@title\n",
        "def binomial_by_inverse_tranform(n, p):\n",
        "  u = np.random.uniform(0,1)\n",
        "  f = 0\n",
        "  for i in range(n+1):\n",
        "    f += comb(n,i)*p**i*(1-p)**(n-i)\n",
        "    if f >= u:\n",
        "      return i\n",
        "\n",
        "b_start = time.perf_counter()\n",
        "binomial_list = [binomial_by_inverse_tranform(100, 0.7) for i in range(6000)]\n",
        "b_stop = time.perf_counter()\n",
        "\n",
        "plt.figure(figsize=(10,5))\n",
        "plt.hist(binomial_list, bins=100, range=(0,100))\n",
        "plt.title(title)\n",
        "plt.show()\n",
        "\n",
        "from_data = sum([x <= 70 for x in binomial_list])/len(binomial_list)\n",
        "from_calc = sum([comb(100,i)*(0.7**i)*((1-0.7)**(100-i)) for i in range(71)])\n",
        "\n",
        "md(f\"\"\"\n",
        "  From data, $P(X\\le70)={from_data}$ \\\\\n",
        "  Theoretically, $P(X\\le70) = \\sum_{{i=0}}^{{70}}{{100\\choose i}}0.7^i(1-0.7)^{{100-i}}={from_calc}$ \\\\\n",
        "  The answer from data is very close to the theoretical value.\n",
        "\"\"\")"
      ],
      "metadata": {
        "colab": {
          "base_uri": "https://localhost:8080/",
          "height": 424
        },
        "id": "fGFC_u4JM1m1",
        "outputId": "fc6f3d3e-c4a5-4548-940b-0158872d47ae",
        "cellView": "form"
      },
      "execution_count": null,
      "outputs": [
        {
          "output_type": "display_data",
          "data": {
            "text/plain": [
              "<Figure size 720x360 with 1 Axes>"
            ],
            "image/png": "[encoded data removed]"
          },
          "metadata": {
            "needs_background": "light"
          }
        },
        {
          "output_type": "execute_result",
          "data": {
            "text/plain": [
              "<IPython.core.display.Markdown object>"
            ],
            "text/markdown": "\n  From data, $P(X\\le70)=0.5345$ \\\n  Theoretically, $P(X\\le70) = \\sum_{i=0}^{70}{100\\choose i}0.7^i(1-0.7)^{100-i}=0.5376602639846378$ \\\n  The answer from data is very close to the theoretical value.\n"
          },
          "metadata": {},
          "execution_count": 11
        }
      ]
    },
    {
      "cell_type": "markdown",
      "source": [
        "### c)\n",
        "Compare the histograms obtained in parts a) and b) and the computing times required in each method."
      ],
      "metadata": {
        "id": "GPDK3biiQhPG"
      }
    },
    {
      "cell_type": "code",
      "source": [
        "#@title\n",
        "md(f\"\"\"\n",
        "  The histograms obtained in parts a) and b) looks the same. \\\\\n",
        "  The time used for getting 6000 Binomial distributed random numbers is {a_stop-a_start:.4g} seconds in part a) and {b_stop-b_start:.4g} seconds in part b).\n",
        "\"\"\")"
      ],
      "metadata": {
        "colab": {
          "base_uri": "https://localhost:8080/",
          "height": 64
        },
        "id": "r_lOYWpFQl1l",
        "outputId": "00527efb-caf4-4cf0-f916-23c0fc5a18ec",
        "cellView": "form"
      },
      "execution_count": null,
      "outputs": [
        {
          "output_type": "execute_result",
          "data": {
            "text/plain": [
              "<IPython.core.display.Markdown object>"
            ],
            "text/markdown": "\n  The histograms obtained in parts a) and b) looks the same. \\\n  The time used for getting 6000 Binomial distributed random numbers is 3.295 seconds in part a) and 6.263 seconds in part b).\n"
          },
          "metadata": {},
          "execution_count": 12
        }
      ]
    },
    {
      "cell_type": "markdown",
      "source": [
        "## 4.\n",
        "Generate 5000 Exponentially distributed with mean $\\lambda=5$ random numbers using the inverse transformation method. Plot the histogram of your results. Compare with the theoretical exponential density."
      ],
      "metadata": {
        "id": "foDVc2dQt_sc"
      }
    },
    {
      "cell_type": "code",
      "source": [
        "#@title\n",
        "def exponential_by_inverse_transformation(mean):\n",
        "  U = np.random.uniform(0, 1)\n",
        "  return -mean*np.log(1-U) #the inverse of the cdf of exponential distribution\n",
        "\n",
        "inverseExponentialSamples = [exponential_by_inverse_transformation(5) for i in range(5000)]\n",
        "actualExponentialSamples = np.random.exponential(5, 5000)\n",
        "fig, (ax1, ax2) = plt.subplots(1,2, figsize=(20,5))\n",
        "ax1.hist(inverseExponentialSamples, bins=100, range=(0,50))\n",
        "ax1.set_title(\"Inverse Transformation Method\")\n",
        "ax2.hist(actualExponentialSamples, bins=100, range=(0,50))\n",
        "ax2.set_title(\"Actual Samples\")\n",
        "plt.suptitle(title)\n",
        "plt.show()\n",
        "\n",
        "md(\"\"\"\n",
        "  The generated density is very similar to the theoretical exponential density.\n",
        "\"\"\")"
      ],
      "metadata": {
        "colab": {
          "base_uri": "https://localhost:8080/",
          "height": 385
        },
        "id": "3yQYR6CHbc-J",
        "outputId": "c6879b64-9084-4159-8ff5-8a8356d252b8",
        "cellView": "form"
      },
      "execution_count": null,
      "outputs": [
        {
          "output_type": "display_data",
          "data": {
            "text/plain": [
              "<Figure size 1440x360 with 2 Axes>"
            ],
            "image/png": "[encoded data removed]"
          },
          "metadata": {
            "needs_background": "light"
          }
        },
        {
          "output_type": "execute_result",
          "data": {
            "text/plain": [
              "<IPython.core.display.Markdown object>"
            ],
            "text/markdown": "\n  The generated density is very similar to the theoretical exponential density.\n"
          },
          "metadata": {},
          "execution_count": 13
        }
      ]
    },
    {
      "cell_type": "markdown",
      "source": [
        "## 5.\n",
        "Generate 7000 Cauchy distributed random numbers using the inverse transformation method. Plot the histogram of your results. Compare with the theoretical Cauchy density."
      ],
      "metadata": {
        "id": "LJ5ZdHWvv7Jj"
      }
    },
    {
      "cell_type": "code",
      "source": [
        "#@title\n",
        "def cauchy_by_inverse_transform():\n",
        "  U = np.random.uniform(0, 1)\n",
        "  return np.tan((U-0.5)*np.pi) #the inverse of the cdf of standard cauchy distribution\n",
        "\n",
        "inverseCauchySamples = np.array([cauchy_by_inverse_transform() for i in range(7000)])\n",
        "actualCauchySamples = np.random.standard_cauchy(7000)\n",
        "fig, (ax1, ax2) = plt.subplots(1, 2, figsize=(20,5))\n",
        "ax1.hist(inverseCauchySamples, bins=100, range=(-25,25))\n",
        "ax1.set_title(\"Inverse Transformation Method\")\n",
        "ax2.hist(actualCauchySamples, bins=100, range=(-25,25))\n",
        "ax2.set_title(\"Actual Samples\")\n",
        "plt.suptitle(title)\n",
        "plt.show()\n",
        "\n",
        "md(\"\"\"\n",
        "  The generated density is very similar to the theoretical Cauchy density.\n",
        "\"\"\")"
      ],
      "metadata": {
        "colab": {
          "base_uri": "https://localhost:8080/",
          "height": 385
        },
        "id": "fZ1bDVBREOW6",
        "outputId": "66444f6a-6db6-46c2-8ddc-b9ab01d90063",
        "cellView": "form"
      },
      "execution_count": null,
      "outputs": [
        {
          "output_type": "display_data",
          "data": {
            "text/plain": [
              "<Figure size 1440x360 with 2 Axes>"
            ],
            "image/png": "[encoded data removed]"
          },
          "metadata": {
            "needs_background": "light"
          }
        },
        {
          "output_type": "execute_result",
          "data": {
            "text/plain": [
              "<IPython.core.display.Markdown object>"
            ],
            "text/markdown": "\n  The generated density is very similar to the theoretical Cauchy density.\n"
          },
          "metadata": {},
          "execution_count": 14
        }
      ]
    },
    {
      "cell_type": "markdown",
      "source": [
        "## 6.\n",
        "Generate 1000 independent samples from a standard normal distribution, by doing:"
      ],
      "metadata": {
        "id": "nnJOB5w6vsj1"
      }
    },
    {
      "cell_type": "markdown",
      "source": [
        "### a)\n",
        "Use Box-Muller method."
      ],
      "metadata": {
        "id": "mhwy1y6uvxQQ"
      }
    },
    {
      "cell_type": "code",
      "source": [
        "#@title\n",
        "def normal_by_box_muller(m=0, s=1):\n",
        "  theta = np.random.uniform(low=0, high=s)*2*math.pi\n",
        "  r = s*math.sqrt(-2*np.log(np.random.uniform()))\n",
        "  return r*math.cos(theta)+m\n",
        "\n",
        "a_start = time.perf_counter()\n",
        "box_muller_normal = [normal_by_box_muller() for _ in range(1000)]\n",
        "a_stop = time.perf_counter()\n",
        "plt.figure(figsize=(10,5))\n",
        "plt.hist(box_muller_normal, bins=50, range=(-4,4))\n",
        "plt.title(title)\n",
        "plt.show()"
      ],
      "metadata": {
        "colab": {
          "base_uri": "https://localhost:8080/",
          "height": 351
        },
        "id": "RbI0eLjEv2de",
        "outputId": "70a44c78-c0dc-423d-c8f5-96d51cf9de3b",
        "cellView": "form"
      },
      "execution_count": null,
      "outputs": [
        {
          "output_type": "display_data",
          "data": {
            "text/plain": [
              "<Figure size 720x360 with 1 Axes>"
            ],
            "image/png": "[encoded data removed]"
          },
          "metadata": {
            "needs_background": "light"
          }
        }
      ]
    },
    {
      "cell_type": "markdown",
      "source": [
        "### b)\n",
        "An available built-in function in your computer."
      ],
      "metadata": {
        "id": "rassgoznzAQo"
      }
    },
    {
      "cell_type": "code",
      "source": [
        "#@title\n",
        "b_start = time.perf_counter()\n",
        "actual_normal = np.random.normal(size=1000)\n",
        "b_stop = time.perf_counter()\n",
        "\n",
        "plt.figure(figsize=(10,5))\n",
        "plt.hist(actual_normal, bins=50, range=(-4,4))\n",
        "plt.title(title)\n",
        "plt.show()"
      ],
      "metadata": {
        "colab": {
          "base_uri": "https://localhost:8080/",
          "height": 351
        },
        "id": "d9xYu874zEh2",
        "outputId": "72b2c8be-a549-4830-a27b-e77494316910",
        "cellView": "form"
      },
      "execution_count": null,
      "outputs": [
        {
          "output_type": "display_data",
          "data": {
            "text/plain": [
              "<Figure size 720x360 with 1 Axes>"
            ],
            "image/png": "[encoded data removed]"
          },
          "metadata": {
            "needs_background": "light"
          }
        }
      ]
    },
    {
      "cell_type": "markdown",
      "source": [
        "### c)\n",
        "Compare histograms and times required for the methods in a), b), c) and the theoretical Gaussian density."
      ],
      "metadata": {
        "id": "82QjFlW3zE2h"
      }
    },
    {
      "cell_type": "code",
      "source": [
        "#@title\n",
        "md(f\"\"\"\n",
        "  The generated density is very similar to the theoretical Gaussian density. \\\\\n",
        "  The time used for getting 1000 Gaussian distributed random numbers is {a_stop-a_start:.4g} seconds in part a) and {b_stop-b_start:.4g} seconds in part b).\n",
        "\"\"\")"
      ],
      "metadata": {
        "colab": {
          "base_uri": "https://localhost:8080/",
          "height": 64
        },
        "id": "LlPiH0VHzKMf",
        "outputId": "761a65be-caa1-4cb3-c155-3af9324dda74",
        "cellView": "form"
      },
      "execution_count": null,
      "outputs": [
        {
          "output_type": "execute_result",
          "data": {
            "text/plain": [
              "<IPython.core.display.Markdown object>"
            ],
            "text/markdown": "\n  The generated density is very similar to the theoretical Gaussian density. \\\n  The time used for getting 1000 Gaussian distributed random numbers is 0.02398 seconds in part a) and 0.01324 seconds in part b).\n"
          },
          "metadata": {},
          "execution_count": 17
        }
      ]
    },
    {
      "cell_type": "markdown",
      "source": [
        "### d)\n",
        "Simulate 1000 random normal variables with mean 1 and standard deviation 2. Create a histogram which shows the data in the range between -3 and 5, with class intervals of length 0.25 Make sure that your name and current date are also included in the histogram title on this and all the other histograms you generate for this exercise. Find out how many of your 1000 variables are bigger than 0, and estimate the probability that a single normal variable with mean 1 and standard deviation 2 is above 0. Write this estimate by hand on your\n",
        "histogram, and show on your histogram which area is being used as your estimate. Also, compute and write the theoretical value for this probability."
      ],
      "metadata": {
        "id": "MckWRCbgzKgm"
      }
    },
    {
      "cell_type": "code",
      "source": [
        "#@title\n",
        "\n",
        "normal_list = np.random.normal(1, 2 ,size=1000)\n",
        "\n",
        "plt.figure(figsize=(10,5))\n",
        "_, _, patches = plt.hist(normal_list, bins=int(8/0.25), range=(-3,5))\n",
        "for i in range(0,int(3/0.25)):\n",
        "    patches[i].set_facecolor(\"grey\")\n",
        "plt.title(title)\n",
        "plt.show()\n",
        "\n",
        "md(f\"\"\"\n",
        "  There are {sum(i > 0 for i in normal_list)} numbers that are bigger than 0. \\\\\n",
        "  $P(X>0)\\simeq{sum(i > 0 for i in normal_list)/len(normal_list)}$, estimated from generated data. The blue region is used for estimation. \\\\\n",
        "  $P(X>0)={1-norm.cdf(((0-1)/2))}$, theoretically.\n",
        "\"\"\")"
      ],
      "metadata": {
        "colab": {
          "base_uri": "https://localhost:8080/",
          "height": 423
        },
        "id": "fRzmUoFnzVpJ",
        "outputId": "c7102086-76c0-42a9-b6ef-ad94ca1bc39e",
        "cellView": "form"
      },
      "execution_count": null,
      "outputs": [
        {
          "output_type": "display_data",
          "data": {
            "text/plain": [
              "<Figure size 720x360 with 1 Axes>"
            ],
            "image/png": "[encoded data removed]"
          },
          "metadata": {
            "needs_background": "light"
          }
        },
        {
          "output_type": "execute_result",
          "data": {
            "text/plain": [
              "<IPython.core.display.Markdown object>"
            ],
            "text/markdown": "\n  There are 703 numbers that are bigger than 0. \\\n  $P(X>0)\\simeq0.703$, estimated from generated data. The blue region is used for estimation. \\\n  $P(X>0)=0.6914624612740131$, theoretically.\n"
          },
          "metadata": {},
          "execution_count": 18
        }
      ]
    },
    {
      "cell_type": "markdown",
      "source": [
        "### e)\n",
        "Simulate 100 sample means, each made by taking the average of 30 normal variables with mean 1 and standard deviation 2. Make a histogram of these sample means in the range -3 to 5 with class intervals of length 0.25. As in the previous question, estimate the probability that a sample mean is bigger than 0, write this estimate by hand on your histogram, and show which area is being used as the estimate. Also, compute and write the theoretical value for this probability."
      ],
      "metadata": {
        "id": "UlUqOQl6zV_D"
      }
    },
    {
      "cell_type": "code",
      "source": [
        "#@title\n",
        "averages = [sum(np.random.normal(1, 2, 30))/30 for i in range(100)]#generate averages\n",
        "plt.figure(figsize=(10,5))\n",
        "_, _, patches = plt.hist(averages, bins=int(8/0.25), range=(-3, 5))\n",
        "for i in range(0,int(3/0.25)):\n",
        "    patches[i].set_facecolor(\"grey\")\n",
        "plt.title(title)\n",
        "plt.show()\n",
        "\n",
        "md(f\"\"\"\n",
        "  There are {sum(i > 0 for i in averages)} numbers that are bigger than 0. \\\\\n",
        "  $P(X>0)\\simeq{sum(i > 0 for i in averages)/len(averages)}$, estimated from generated data. The blue region is used for estimation. \\\\\n",
        "  $P(X>0)={1-norm.cdf(((0-1)/(2/math.sqrt(len(averages)))))}$, theoretically. \\\\\n",
        "  The variance around mean equals 1 is clearly lower since we're taking unbiased estimators of the random variables in problem 6e.\n",
        "\"\"\")"
      ],
      "metadata": {
        "colab": {
          "base_uri": "https://localhost:8080/",
          "height": 440
        },
        "id": "bI3KRE3cpWFl",
        "outputId": "b253326a-e647-47be-d198-2d04286ae82c",
        "cellView": "form"
      },
      "execution_count": null,
      "outputs": [
        {
          "output_type": "display_data",
          "data": {
            "text/plain": [
              "<Figure size 720x360 with 1 Axes>"
            ],
            "image/png": "[encoded data removed]"
          },
          "metadata": {
            "needs_background": "light"
          }
        },
        {
          "output_type": "execute_result",
          "data": {
            "text/plain": [
              "<IPython.core.display.Markdown object>"
            ],
            "text/markdown": "\n  There are 100 numbers that are bigger than 0. \\\n  $P(X>0)\\simeq1.0$, estimated from generated data. The blue region is used for estimation. \\\n  $P(X>0)=0.9999997133484281$, theoretically. \\\n  The variance around mean equals 1 is clearly lower since we're taking unbiased estimators of the random variables in problem 6e.\n"
          },
          "metadata": {},
          "execution_count": 19
        }
      ]
    }
  ]
}